{
 "cells": [
  {
   "cell_type": "code",
   "execution_count": 1,
   "metadata": {
    "collapsed": true
   },
   "outputs": [],
   "source": [
    "import pandas as pd\n",
    "import numpy as np\n",
    "import cPickle as pickle"
   ]
  },
  {
   "cell_type": "code",
   "execution_count": 2,
   "metadata": {},
   "outputs": [
    {
     "name": "stderr",
     "output_type": "stream",
     "text": [
      "/usr/local/lib/python2.7/dist-packages/sklearn/cross_validation.py:41: DeprecationWarning: This module was deprecated in version 0.18 in favor of the model_selection module into which all the refactored classes and functions are moved. Also note that the interface of the new CV iterators are different from that of this module. This module will be removed in 0.20.\n",
      "  \"This module will be removed in 0.20.\", DeprecationWarning)\n"
     ]
    }
   ],
   "source": [
    "import matplotlib.pyplot as plt\n",
    "from sklearn.metrics import mean_squared_error\n",
    "from sklearn.cross_validation import train_test_split\n",
    "from sklearn.ensemble import RandomForestRegressor"
   ]
  },
  {
   "cell_type": "markdown",
   "metadata": {},
   "source": [
    "# Se carga el set de entrenamiento"
   ]
  },
  {
   "cell_type": "code",
   "execution_count": 3,
   "metadata": {
    "collapsed": true
   },
   "outputs": [],
   "source": [
    "prop = pickle.load(open(\"Data.p\",\"rb\"))"
   ]
  },
  {
   "cell_type": "code",
   "execution_count": 4,
   "metadata": {},
   "outputs": [
    {
     "name": "stdout",
     "output_type": "stream",
     "text": [
      "<class 'pandas.core.frame.DataFrame'>\n",
      "Int64Index: 72474 entries, 0 to 72473\n",
      "Data columns (total 35 columns):\n",
      "id                            72474 non-null object\n",
      "created_on                    72474 non-null object\n",
      "operation                     72474 non-null object\n",
      "property_type                 72474 non-null object\n",
      "place_name                    72446 non-null object\n",
      "place_with_parent_names       72474 non-null object\n",
      "country_name                  72474 non-null object\n",
      "state_name                    72474 non-null object\n",
      "geonames_id                   62030 non-null float64\n",
      "lat-lon                       48174 non-null object\n",
      "lat                           48174 non-null float64\n",
      "lon                           48174 non-null float64\n",
      "price                         72474 non-null float64\n",
      "currency                      72473 non-null object\n",
      "price_aprox_local_currency    72474 non-null float64\n",
      "price_aprox_usd               72474 non-null float64\n",
      "surface_total_in_m2           72474 non-null float64\n",
      "surface_covered_in_m2         68556 non-null float64\n",
      "price_usd_per_m2              72474 non-null float64\n",
      "price_per_m2                  68553 non-null float64\n",
      "floor                         5990 non-null float64\n",
      "expenses                      10809 non-null float64\n",
      "properati_url                 72474 non-null object\n",
      "description                   72473 non-null object\n",
      "title                         72474 non-null object\n",
      "image_thumbnail               71446 non-null object\n",
      "latlon                        72474 non-null object\n",
      "Cant_ColeYUniv                72474 non-null int64\n",
      "Cant_EspaciosVerdes           72474 non-null int64\n",
      "Cant_LocalesGastronomicos     72474 non-null int64\n",
      "Cant_ParadasTransporte        72474 non-null int64\n",
      "Cant_LugaresTuristicos        72474 non-null int64\n",
      "rooms                         49570 non-null float64\n",
      "ambientes                     38316 non-null float64\n",
      "banios                        27926 non-null float64\n",
      "dtypes: float64(15), int64(5), object(15)\n",
      "memory usage: 19.9+ MB\n"
     ]
    }
   ],
   "source": [
    "prop.info()"
   ]
  },
  {
   "cell_type": "code",
   "execution_count": 5,
   "metadata": {
    "collapsed": true
   },
   "outputs": [],
   "source": [
    "#OJO CON ESTO\n",
    "proper = pickle.load(open(\"porpiedadesPruebaConColTransGas.p\", \"rb\"))"
   ]
  },
  {
   "cell_type": "code",
   "execution_count": 6,
   "metadata": {},
   "outputs": [
    {
     "name": "stdout",
     "output_type": "stream",
     "text": [
      "<class 'pandas.core.frame.DataFrame'>\n",
      "RangeIndex: 14166 entries, 0 to 14165\n",
      "Data columns (total 25 columns):\n",
      "id                           14166 non-null int64\n",
      "created_on                   14166 non-null object\n",
      "property_type                14166 non-null object\n",
      "operation                    14166 non-null object\n",
      "place_name                   14166 non-null object\n",
      "place_with_parent_names      14166 non-null object\n",
      "country_name                 14166 non-null object\n",
      "state_name                   14166 non-null object\n",
      "lat-lon                      10487 non-null object\n",
      "lat                          10487 non-null float64\n",
      "lon                          10487 non-null float64\n",
      "surface_total_in_m2          11853 non-null float64\n",
      "surface_covered_in_m2        13005 non-null float64\n",
      "floor                        1368 non-null float64\n",
      "rooms                        7500 non-null float64\n",
      "expenses                     2543 non-null object\n",
      "description                  14166 non-null object\n",
      "geonames_id                  7810 non-null float64\n",
      "price_aprox_usd              8686 non-null float64\n",
      "price_usd_per_m2             7214 non-null float64\n",
      "price_per_m2                 7942 non-null float64\n",
      "latlon                       12586 non-null object\n",
      "Cant_ColeYUniv               12586 non-null float64\n",
      "Cant_ParadasTransporte       12586 non-null float64\n",
      "Cant_LocalesGastronomicos    12586 non-null float64\n",
      "dtypes: float64(13), int64(1), object(11)\n",
      "memory usage: 2.7+ MB\n"
     ]
    }
   ],
   "source": [
    "proper.info()"
   ]
  },
  {
   "cell_type": "code",
   "execution_count": 7,
   "metadata": {},
   "outputs": [
    {
     "data": {
      "text/plain": [
       "86640"
      ]
     },
     "execution_count": 7,
     "metadata": {},
     "output_type": "execute_result"
    }
   ],
   "source": [
    "#agrego el set de pruebas con los datos posta al de entrenamiento\n",
    "propTOT = pd.merge(prop, proper, how=\"outer\")\n",
    "len(propTOT)"
   ]
  },
  {
   "cell_type": "code",
   "execution_count": 8,
   "metadata": {},
   "outputs": [
    {
     "data": {
      "text/plain": [
       "77775"
      ]
     },
     "execution_count": 8,
     "metadata": {},
     "output_type": "execute_result"
    }
   ],
   "source": [
    "#cortamos por precios\n",
    "propTOT = propTOT[(propTOT['price_usd_per_m2']>150) & (propTOT['price_usd_per_m2']<8000)]\n",
    "len(propTOT)"
   ]
  },
  {
   "cell_type": "code",
   "execution_count": 9,
   "metadata": {},
   "outputs": [
    {
     "name": "stdout",
     "output_type": "stream",
     "text": [
      "<class 'pandas.core.frame.DataFrame'>\n",
      "Int64Index: 77775 entries, 0 to 81159\n",
      "Data columns (total 35 columns):\n",
      "id                            77775 non-null object\n",
      "created_on                    77775 non-null object\n",
      "operation                     77775 non-null object\n",
      "property_type                 77775 non-null object\n",
      "place_name                    77747 non-null object\n",
      "place_with_parent_names       77775 non-null object\n",
      "country_name                  77775 non-null object\n",
      "state_name                    77775 non-null object\n",
      "geonames_id                   66898 non-null float64\n",
      "lat-lon                       52651 non-null object\n",
      "lat                           52651 non-null float64\n",
      "lon                           52651 non-null float64\n",
      "price                         70655 non-null float64\n",
      "currency                      70655 non-null object\n",
      "price_aprox_local_currency    70655 non-null float64\n",
      "price_aprox_usd               77775 non-null float64\n",
      "surface_total_in_m2           77710 non-null float64\n",
      "surface_covered_in_m2         73831 non-null float64\n",
      "price_usd_per_m2              77775 non-null float64\n",
      "price_per_m2                  73844 non-null float64\n",
      "floor                         6619 non-null float64\n",
      "expenses                      12034 non-null object\n",
      "properati_url                 70655 non-null object\n",
      "description                   77774 non-null object\n",
      "title                         70655 non-null object\n",
      "image_thumbnail               69642 non-null object\n",
      "latlon                        77529 non-null object\n",
      "Cant_ColeYUniv                77529 non-null float64\n",
      "Cant_EspaciosVerdes           70655 non-null float64\n",
      "Cant_LocalesGastronomicos     77529 non-null float64\n",
      "Cant_ParadasTransporte        77529 non-null float64\n",
      "Cant_LugaresTuristicos        70655 non-null float64\n",
      "rooms                         52166 non-null float64\n",
      "ambientes                     37625 non-null float64\n",
      "banios                        27153 non-null float64\n",
      "dtypes: float64(19), object(16)\n",
      "memory usage: 21.4+ MB\n"
     ]
    }
   ],
   "source": [
    "propTOT.info()"
   ]
  },
  {
   "cell_type": "code",
   "execution_count": 11,
   "metadata": {
    "collapsed": true
   },
   "outputs": [],
   "source": [
    "#completo las superficies totales con las cubiertas\n",
    "propTOT['surface_total_in_m2'] = propTOT.apply(lambda row: row[17] if(np.all(pd.isnull(row[16]))) else row[16], axis=1)"
   ]
  },
  {
   "cell_type": "markdown",
   "metadata": {},
   "source": [
    "## Division del set de Entrenamiento"
   ]
  },
  {
   "cell_type": "code",
   "execution_count": 12,
   "metadata": {},
   "outputs": [
    {
     "name": "stderr",
     "output_type": "stream",
     "text": [
      "/usr/local/lib/python2.7/dist-packages/ipykernel_launcher.py:4: SettingWithCopyWarning: \n",
      "A value is trying to be set on a copy of a slice from a DataFrame\n",
      "\n",
      "See the caveats in the documentation: http://pandas.pydata.org/pandas-docs/stable/indexing.html#indexing-view-versus-copy\n",
      "  after removing the cwd from sys.path.\n",
      "/usr/local/lib/python2.7/dist-packages/ipykernel_launcher.py:6: SettingWithCopyWarning: \n",
      "A value is trying to be set on a copy of a slice from a DataFrame.\n",
      "Try using .loc[row_indexer,col_indexer] = value instead\n",
      "\n",
      "See the caveats in the documentation: http://pandas.pydata.org/pandas-docs/stable/indexing.html#indexing-view-versus-copy\n",
      "  \n",
      "/usr/local/lib/python2.7/dist-packages/ipykernel_launcher.py:8: SettingWithCopyWarning: \n",
      "A value is trying to be set on a copy of a slice from a DataFrame.\n",
      "Try using .loc[row_indexer,col_indexer] = value instead\n",
      "\n",
      "See the caveats in the documentation: http://pandas.pydata.org/pandas-docs/stable/indexing.html#indexing-view-versus-copy\n",
      "  \n"
     ]
    }
   ],
   "source": [
    "#se formatea lat y lon\n",
    "p = propTOT[['property_type','place_name','surface_total_in_m2',\\\n",
    "          'price_usd_per_m2','latlon','Cant_ColeYUniv','Cant_LocalesGastronomicos',\n",
    "         'Cant_ParadasTransporte', 'price_aprox_usd']]\n",
    "p.dropna(inplace = True)\n",
    "\n",
    "p['lat'] = p.apply(lambda row: row[4][0], axis=1)\n",
    "\n",
    "p['lon'] = p.apply(lambda row: row[4][1], axis=1)\n",
    "\n",
    "p = p[['property_type','place_name','surface_total_in_m2',\\\n",
    "          'price_usd_per_m2','lat','lon','Cant_ColeYUniv','Cant_LocalesGastronomicos',\n",
    "         'Cant_ParadasTransporte', 'price_aprox_usd']]"
   ]
  },
  {
   "cell_type": "markdown",
   "metadata": {},
   "source": [
    "### Se le asigna un valor numerico al tipo de propiedad"
   ]
  },
  {
   "cell_type": "code",
   "execution_count": 13,
   "metadata": {
    "collapsed": true
   },
   "outputs": [],
   "source": [
    "def asignarPT( p ):\n",
    "    if p == 'apartment':\n",
    "        return 0\n",
    "    if p == 'house':\n",
    "        return 1\n",
    "    if p == 'store':\n",
    "        return 2\n",
    "    return 3"
   ]
  },
  {
   "cell_type": "code",
   "execution_count": 14,
   "metadata": {
    "collapsed": true
   },
   "outputs": [],
   "source": [
    "p['property_type'] = p.apply(lambda x: asignarPT(x[0]), axis = 1)"
   ]
  },
  {
   "cell_type": "markdown",
   "metadata": {},
   "source": [
    "### Se le asigna un valor a los barrios segun el analisis de grupos hecho en el tp1"
   ]
  },
  {
   "cell_type": "code",
   "execution_count": 15,
   "metadata": {
    "collapsed": true
   },
   "outputs": [],
   "source": [
    "def asignarPV(name, dic):\n",
    "    return dic[name]   "
   ]
  },
  {
   "cell_type": "code",
   "execution_count": 16,
   "metadata": {
    "collapsed": true
   },
   "outputs": [],
   "source": [
    "hoodGroups = p[[\"place_name\", \"price_usd_per_m2\"]]\n",
    "hoodGroups = hoodGroups.groupby(\"place_name\").agg([np.mean]).reset_index()\n",
    "hoodGroups = hoodGroups.sort_values(by=(\"price_usd_per_m2\", \"mean\"), ascending=True)"
   ]
  },
  {
   "cell_type": "code",
   "execution_count": 17,
   "metadata": {
    "collapsed": true
   },
   "outputs": [],
   "source": [
    "HGdics = {}\n",
    "precio_ant = 0\n",
    "val_ant = 0\n",
    "for row in hoodGroups.iterrows():\n",
    "    name = row[1][0]\n",
    "    price = row[1][1]\n",
    "    val = val_ant + (precio_ant/price)*100\n",
    "    HGdics[name] = val\n",
    "    precio_ant = price\n",
    "    val_ant = val"
   ]
  },
  {
   "cell_type": "code",
   "execution_count": 18,
   "metadata": {
    "collapsed": true
   },
   "outputs": [],
   "source": [
    "p[\"place_value\"] = p.apply(lambda x: asignarPV(x[1], HGdics), axis=1)"
   ]
  },
  {
   "cell_type": "code",
   "execution_count": 19,
   "metadata": {
    "collapsed": true
   },
   "outputs": [],
   "source": [
    "pEnt = p[['property_type','surface_total_in_m2',\\\n",
    "          'lat','lon','Cant_LocalesGastronomicos',\n",
    "         'Cant_ParadasTransporte', 'place_value', 'price_aprox_usd']]"
   ]
  },
  {
   "cell_type": "code",
   "execution_count": 20,
   "metadata": {},
   "outputs": [
    {
     "data": {
      "text/plain": [
       "77492"
      ]
     },
     "execution_count": 20,
     "metadata": {},
     "output_type": "execute_result"
    }
   ],
   "source": [
    "len(pEnt)"
   ]
  },
  {
   "cell_type": "markdown",
   "metadata": {},
   "source": [
    "# Se carga el set de Prueba"
   ]
  },
  {
   "cell_type": "code",
   "execution_count": 21,
   "metadata": {
    "collapsed": true
   },
   "outputs": [],
   "source": [
    "proper = pickle.load(open(\"porpiedadesPruebaConColTransGas.p\", \"rb\"))"
   ]
  },
  {
   "cell_type": "code",
   "execution_count": 22,
   "metadata": {},
   "outputs": [
    {
     "data": {
      "text/plain": [
       "14166"
      ]
     },
     "execution_count": 22,
     "metadata": {},
     "output_type": "execute_result"
    }
   ],
   "source": [
    "len(proper)"
   ]
  },
  {
   "cell_type": "code",
   "execution_count": 23,
   "metadata": {},
   "outputs": [
    {
     "name": "stderr",
     "output_type": "stream",
     "text": [
      "/usr/local/lib/python2.7/dist-packages/ipykernel_launcher.py:5: SettingWithCopyWarning: \n",
      "A value is trying to be set on a copy of a slice from a DataFrame.\n",
      "Try using .loc[row_indexer,col_indexer] = value instead\n",
      "\n",
      "See the caveats in the documentation: http://pandas.pydata.org/pandas-docs/stable/indexing.html#indexing-view-versus-copy\n",
      "  \"\"\"\n",
      "/usr/local/lib/python2.7/dist-packages/ipykernel_launcher.py:7: SettingWithCopyWarning: \n",
      "A value is trying to be set on a copy of a slice from a DataFrame.\n",
      "Try using .loc[row_indexer,col_indexer] = value instead\n",
      "\n",
      "See the caveats in the documentation: http://pandas.pydata.org/pandas-docs/stable/indexing.html#indexing-view-versus-copy\n",
      "  import sys\n"
     ]
    }
   ],
   "source": [
    "#se formatea lat y lon\n",
    "p = proper[['property_type','place_name','surface_total_in_m2','surface_covered_in_m2',\\\n",
    "          'latlon','Cant_ColeYUniv','Cant_LocalesGastronomicos',\n",
    "         'Cant_ParadasTransporte']]\n",
    "\n",
    "p['lat'] = p.apply(lambda row: row[4][0] if(np.all(pd.notnull(row[5]))) else row[5], axis=1)\n",
    "\n",
    "p['lon'] = p.apply(lambda row: row[4][1] if(np.all(pd.notnull(row[5]))) else row[5], axis=1)\n",
    "\n",
    "p = p[['property_type','place_name','surface_total_in_m2','surface_covered_in_m2',\\\n",
    "          'lat','lon','Cant_ColeYUniv','Cant_LocalesGastronomicos',\n",
    "         'Cant_ParadasTransporte']]"
   ]
  },
  {
   "cell_type": "code",
   "execution_count": 24,
   "metadata": {
    "collapsed": true
   },
   "outputs": [],
   "source": [
    "p['property_type'] = p.apply(lambda x: asignarPT(x[0]), axis = 1)"
   ]
  },
  {
   "cell_type": "code",
   "execution_count": 25,
   "metadata": {},
   "outputs": [
    {
     "data": {
      "text/plain": [
       "{' Country Maschwitz Club': 21514.06265777542,\n",
       " ' los alamos': 36076.56240115341,\n",
       " 'Abasto': 41355.367451781036,\n",
       " 'Abril Club de Campo': 7578.110849733132,\n",
       " 'Acacias Blancas': 15234.180184029135,\n",
       " 'Acassuso': 40758.475176322514,\n",
       " 'Adrogu\\xc3\\xa9': 32188.41046750249,\n",
       " 'Aeropuerto Internacional Ezeiza': 24405.19510129775,\n",
       " 'Agronom\\xc3\\xada': 42349.0029699105,\n",
       " 'Albanueva Barrio Cerrado': 45930.943975769995,\n",
       " 'Aldo Bonzi': 12645.705688835964,\n",
       " 'Alejandro Korn': 14138.278243489904,\n",
       " 'Alejandro Peti\\xc3\\xb3n': 10857.57230488479,\n",
       " 'Almagro': 43544.9145233115,\n",
       " 'Almirante Brown': 28896.605612881718,\n",
       " 'Altamira': 40060.77861714203,\n",
       " 'Altos de Hudson II': 41058.15622453175,\n",
       " 'Altos de Manzanares 1 y 2': 29994.721802870456,\n",
       " 'Altos de Matheu': 15532.827611628498,\n",
       " 'Altos del Golf': 14337.335103615955,\n",
       " 'Altos del Pilar': 43644.20710272337,\n",
       " 'Armenia Country Club': 26400.520352840344,\n",
       " 'Avellaneda': 34083.820889225244,\n",
       " 'Bah\\xc3\\xada del Sol': 45136.20621487863,\n",
       " 'Balvanera': 40159.81041934995,\n",
       " 'Banfield': 37271.848894104834,\n",
       " 'Barbarita, Barrio Cerrado': 36176.24462749076,\n",
       " 'Barracas': 39363.33851867813,\n",
       " 'Barrancas de San Jose': 35877.56468737609,\n",
       " 'Barrancas de Santa Mar\\xc3\\xada': 38466.08357982963,\n",
       " 'Barrio Acacias': 20117.318024249216,\n",
       " 'Barrio Alamo Alto': 1264.513928012829,\n",
       " 'Barrio Araucarias': 42051.12458466454,\n",
       " 'Barrio Barrancas del Lago': 12049.866673255488,\n",
       " 'Barrio Cabos del Lago': 42548.3269656396,\n",
       " 'Barrio Cerrado \"Ayres Plaza\"': 34680.81188143537,\n",
       " 'Barrio Cerrado \"Buen Retiro\"': 3124.786262458106,\n",
       " 'Barrio Cerrado \"Buenos Aires Village\"': 39562.22124187743,\n",
       " 'Barrio Cerrado \"El Casco de Moreno\"': 5492.333811185261,\n",
       " 'Barrio Cerrado \"Isla del Sol\"': 7080.224406403985,\n",
       " 'Barrio Cerrado \"La Candelaria\"': 37371.58036327765,\n",
       " 'Barrio Cerrado \"La Cautiva del Pilar\"': 24804.287579066568,\n",
       " 'Barrio Cerrado \"La Damasia\"': 37471.38067049731,\n",
       " 'Barrio Cerrado \"La Delfina\"': 31292.30399412382,\n",
       " 'Barrio Cerrado \"La Montura\"': 25502.51868896205,\n",
       " 'Barrio Cerrado \"La Otilia\"': 27599.639483901297,\n",
       " 'Barrio Cerrado \"La Tranquera\"': 31988.529917269454,\n",
       " 'Barrio Cerrado \"Las Mar\\xc3\\xadas\"': 37770.236327395505,\n",
       " 'Barrio Cerrado \"Los Alcanfores\"': 24504.664905984668,\n",
       " 'Barrio Cerrado \"Los Ceibos\"': 38864.82795707478,\n",
       " 'Barrio Cerrado \"Los Fresnos\"': 1948.4056353813528,\n",
       " 'Barrio Cerrado \"Los Omb\\xc3\\xbaes de Hudson\"': 35578.60751188916,\n",
       " 'Barrio Cerrado \"Los Potrillos\"': 11553.509955310219,\n",
       " 'Barrio Cerrado \"Los Senderos\"': 30393.653813974965,\n",
       " 'Barrio Cerrado \"Roble Joven\"': 13841.0467988209,\n",
       " 'Barrio Cerrado \"Soles de Pilar\"': 18124.53950128548,\n",
       " 'Barrio Cerrado \"SpringDale\"': 33983.85284104216,\n",
       " 'Barrio Cerrado \"Tres Horquetas\"': 17926.364770523815,\n",
       " 'Barrio Cerrado \"Villa Rosa\"': 1754.4603319628595,\n",
       " 'Barrio Cerrado El Casco de Alvarez': 4903.641305901167,\n",
       " 'Barrio Cerrado El Lucero': 30094.596893882546,\n",
       " 'Barrio Cerrado Fincas de Maschwitz': 3521.5493111045125,\n",
       " 'Barrio Cerrado Lagos del Norte': 42249.94219810788,\n",
       " 'Barrio Cerrado Las Casuarinas': 23608.603008172617,\n",
       " 'Barrio Cerrado Malib\\xc3\\xba': 40558.56896665094,\n",
       " 'Barrio El Golf': 45036.54512917535,\n",
       " 'Barrio El Moro': 17426.844673730135,\n",
       " 'Barrio La Alameda': 36574.15854023135,\n",
       " 'Barrio La Casualidad': 23109.90856299536,\n",
       " 'Barrio La Cuesta': 29594.959689647218,\n",
       " 'Barrio La Deseada': 21912.925506844414,\n",
       " 'Barrio La Isla': 46714.9491461138,\n",
       " 'Barrio Lagos del Golf 2': 38565.7496550335,\n",
       " 'Barrio Las Glorietas': 38665.65244881121,\n",
       " 'Barrio Los Alisos': 43942.691571678166,\n",
       " 'Barrio Los Castores': 44440.386482104295,\n",
       " 'Barrio Los Lagos': 39661.72461808396,\n",
       " 'Barrio Los Tilos': 35976.73681975806,\n",
       " 'Barrio Marinas': 37172.00373294886,\n",
       " 'Barrio Melazzi': 14835.166636162292,\n",
       " 'Barrio Norte': 46814.74259084971,\n",
       " 'Barrio Parque Almirante Ir\\xc3\\xadzar': 27299.853927521992,\n",
       " 'Barrio Parque General San Martin': 16031.39582465091,\n",
       " 'Barrio Parque San Martin': 30792.968418942444,\n",
       " 'Barrio Privado \"Ayres de Pilar\"': 4707.043135440543,\n",
       " 'Barrio Privado \"Lomas de F\\xc3\\xa1tima\"': 17726.553544463266,\n",
       " 'Barrio Privado El Recodo  S.A.': 23209.515971214463,\n",
       " 'Barrio Privado El Resuello': 1164.7678522972242,\n",
       " 'Barrio Privado El Rodal': 3224.709101964279,\n",
       " 'Barrio Privado La Campi\\xc3\\xb1a': 480.03551417598754,\n",
       " 'Barrio Privado Santa Rita': 29195.507302146663,\n",
       " 'Barrio San Agustin': 25901.5219091384,\n",
       " 'Barrio San Eduardo - Pilar del Este': 1656.7239683264959,\n",
       " 'Barrio San Gabriel': 28697.65252286826,\n",
       " 'Barrio San Mat\\xc3\\xadas': 14934.457565640047,\n",
       " 'Barrio San Rafael': 33185.5515392939,\n",
       " 'Barrio Santa Clara': 33784.11487636017,\n",
       " 'Barrio Santa Teresa': 31690.49429380245,\n",
       " 'Barrio Vistas': 35179.664773159566,\n",
       " 'Barrio cerrado Camino Real': 9466.738285824658,\n",
       " 'Barrio cerrado La Cascada': 22910.117343420756,\n",
       " 'Barrio cerrado Santa Ana': 32088.44677038894,\n",
       " 'BarrioPortezuelo': 45334.93030766739,\n",
       " 'Beccar': 35777.725777952626,\n",
       " 'Belgrano': 47110.59008903372,\n",
       " 'Bella Vista': 13542.61492243043,\n",
       " 'Bel\\xc3\\xa9n de Escobar': 10758.443696048847,\n",
       " 'Benavidez': 7873.81339220774,\n",
       " 'Benavidez Greens': 28099.120506254334,\n",
       " 'Berazategui': 33385.19791724923,\n",
       " 'Berazategui Oeste': 10559.96067834891,\n",
       " 'Bermudas Country Club': 30493.467526690532,\n",
       " 'Bernal': 34382.07010440259,\n",
       " 'Billinghurst': 8770.504862066453,\n",
       " 'Boat Center Barrio Cerrado': 27100.025031912854,\n",
       " 'Boca': 34283.40227419282,\n",
       " 'Boca Rat\\xc3\\xb3n': 7675.992447232351,\n",
       " 'Boedo': 42648.317746258,\n",
       " 'Bosques': 194.4213358273866,\n",
       " 'Boulogne Sur Mer': 15334.06068297453,\n",
       " 'Brickland': 2927.5029649326975,\n",
       " 'Bs.As. G.B.A. Zona Norte': 23509.05372279222,\n",
       " 'Bs.As. G.B.A. Zona Oeste': 14237.377793359163,\n",
       " 'Bs.As. G.B.A. Zona Sur': 17127.873273408462,\n",
       " 'Burzaco': 9765.369169538018,\n",
       " 'Caballito': 45235.54972311115,\n",
       " 'Campo Grande Country Club': 26101.177081573966,\n",
       " 'Campos de \\xc3\\x81lvarez': 24604.48302595444,\n",
       " 'Canning': 36375.7278148431,\n",
       " 'Capital Federal': 33684.6334478947,\n",
       " 'Carapachay': 28597.846094758002,\n",
       " 'Carlos Spegazzini': 10263.184684846861,\n",
       " 'Caseros': 27899.346627488983,\n",
       " 'Castelar': 31790.420952101435,\n",
       " 'Catalinas': 40958.21734017306,\n",
       " 'Ca\\xc3\\xb1uelas': 10659.404175879572,\n",
       " 'Centro / Microcentro': 44142.108216264,\n",
       " 'Chacarita': 43345.927355999054,\n",
       " 'Chacras de La Trinidad': 28397.90309348777,\n",
       " 'City Bell': 32686.962112199108,\n",
       " 'Ciudad Evita': 9964.572267222005,\n",
       " 'Ciudad Jard\\xc3\\xadn Lomas del Palomar': 29794.74572757289,\n",
       " 'Ciudadela': 24704.364060819244,\n",
       " 'Claypole': 8670.517016802003,\n",
       " 'Club El Carmen - Sector casas': 22611.62043907016,\n",
       " 'Club de Campo Aranzazu': 4110.776337227691,\n",
       " 'Coghlan': 45632.185051434455,\n",
       " 'Colegiales': 45831.224674270314,\n",
       " 'Complejo de Barrios Privados La Magdalena': 975.517799675451,\n",
       " 'Congreso': 39462.55932404313,\n",
       " 'Constituci\\xc3\\xb3n': 37571.22243055824,\n",
       " 'Country Banco Provincia': 26700.168879841825,\n",
       " 'Country Club Aranjuez': 15134.276300236505,\n",
       " 'Country Club Las lajas': 3324.5800697062145,\n",
       " 'Country El Venado': 15731.625627154308,\n",
       " 'Country Farm Club': 38366.62840423001,\n",
       " 'Country Golf El Sosiego': 3714.1792583328142,\n",
       " 'Country Maschwitz Privado': 14735.244761162292,\n",
       " 'Country Nuevo Quilmes': 44936.75566661064,\n",
       " 'Country Saint Thomas': 17027.999194610693,\n",
       " 'Country San Jorge Village': 33884.089333021526,\n",
       " 'Cruce Castelar': 44837.00193055808,\n",
       " 'Crucecita': 28298.308214266654,\n",
       " 'Cuartel V': 2342.2955802344463,\n",
       " 'Del Viso': 21713.88332512899,\n",
       " 'Delta': 777.3340720759196,\n",
       " 'Derqui': 41553.88542430887,\n",
       " 'Dique Luj\\xc3\\xa1n': 31092.702746195806,\n",
       " 'Dock Sud': 11851.96300416438,\n",
       " 'Domselaar': 4609.627661048758,\n",
       " 'Don Bosco': 18522.447940109923,\n",
       " 'Don Orione': 5294.720786655888,\n",
       " 'Don Torcuato': 12446.065868510801,\n",
       " 'Echeverr\\xc3\\xada del Lago': 8071.64652935306,\n",
       " 'El Canton Barrio Puerto': 6484.991280531499,\n",
       " 'El Casco de Leloir': 35279.349551982275,\n",
       " 'El Cazador': 6583.285627979396,\n",
       " 'El Centauro': 6683.17172696181,\n",
       " 'El Encuentro': 36474.981485814824,\n",
       " 'El Jag\\xc3\\xbcel': 94.79166666666667,\n",
       " 'El Nacional Club de Campo': 28497.848588595072,\n",
       " 'El Palomar': 19619.78393705779,\n",
       " 'El Para\\xc3\\xadso de Guernica Country Club': 579.2785468298159,\n",
       " 'El Pato': 11354.448737573488,\n",
       " 'El Pato Country Club': 1066.1267740344254,\n",
       " 'El Peligro': 1561.0484995166987,\n",
       " 'El Pilar': 16728.832040753197,\n",
       " 'El Portal': 5592.333811185261,\n",
       " 'El Roc\\xc3\\xado': 20616.42947432088,\n",
       " 'El Talar': 13642.217920036519,\n",
       " 'El Talar de Pacheco': 37072.06357066353,\n",
       " 'Enyoi': 47308.263823515605,\n",
       " 'Escobar': 21614.040385618588,\n",
       " 'Estancias del Pilar': 29494.9804699674,\n",
       " 'Esteban Echeverr\\xc3\\xada': 29694.891397139807,\n",
       " 'Etcheverry': 876.2960097921825,\n",
       " 'Ex La Ponderosa': 9267.954117423407,\n",
       " 'Ezeiza': 26500.399887391708,\n",
       " 'Ezpeleta': 13144.883022270435,\n",
       " 'Fincas de Hudson': 38167.74845528367,\n",
       " 'Fincas de Iraola': 39063.555763129356,\n",
       " 'Fincas de Iraola II': 31192.4351792102,\n",
       " 'Fincas del Lago': 29295.309392296782,\n",
       " 'Florencio Varela': 25202.950257375905,\n",
       " 'Flores': 41255.77005953952,\n",
       " 'Floresta': 37969.76621688719,\n",
       " 'Florida': 41156.61410858247,\n",
       " 'Florida Oeste': 29894.728194751788,\n",
       " 'Francisco Alvarez': 7279.998171018291,\n",
       " 'F\\xc3\\xa1tima': 5692.178474777343,\n",
       " 'Galapagos Country Club': 18621.954128237976,\n",
       " 'Gar\\xc3\\xadn': 9366.772788124654,\n",
       " 'General Pacheco': 26900.09928560621,\n",
       " 'General Rodr\\xc3\\xadguez': 18323.841788202404,\n",
       " 'General San Mart\\xc3\\xadn': 27699.59575167416,\n",
       " 'Gerli': 19817.91049598783,\n",
       " 'Glew': 16430.658532741705,\n",
       " 'Golf Club Argentino': 31590.56648941589,\n",
       " \"Golfer's Country Club\": 14636.05252543552,\n",
       " 'Gonz\\xc3\\xa1lez Cat\\xc3\\xa1n': 5196.835785036203,\n",
       " 'Gorina': 0.0,\n",
       " 'Grand Bell': 20316.824606672744,\n",
       " 'Grand Bourg': 10163.77871409291,\n",
       " 'GreenVille Polo & Resort': 44540.33700618123,\n",
       " 'Gregorio de Laferrere': 12945.348991434694,\n",
       " 'Guernica': 10064.502257442293,\n",
       " 'Guillermo Hudson': 41653.80480608131,\n",
       " 'Gutierrez': 21015.333695133955,\n",
       " 'Hacoaj Barrio Cerrado': 41853.70887038245,\n",
       " 'Haedo': 32387.778617699558,\n",
       " 'Haras Mar\\xc3\\xada Elena': 4510.155465774061,\n",
       " 'Haras Mar\\xc3\\xada Victoria': 5990.424986659829,\n",
       " 'Haras San Pablo': 11453.521840035106,\n",
       " 'Haras Santa Maria': 20516.504543707513,\n",
       " 'Haras del Pilar - El Establo': 26600.34405065985,\n",
       " 'Haras del Pilar - La Caballeriza': 19917.87558558035,\n",
       " 'Haras del Pilar - Las Praderas 1 y 2': 31490.67740523468,\n",
       " 'Haras del Sur I': 5791.586623167514,\n",
       " 'Highland Park Country Club': 20915.508406895442,\n",
       " 'Hindu Club': 3912.4405189313898,\n",
       " 'Hurlingham': 11950.18817560638,\n",
       " 'Ingeniero Adolfo Sourdeaux': 3620.221321794336,\n",
       " 'Ingeniero Juan Allan': 2829.1370868675713,\n",
       " 'Ingeniero Pablo Nogu\\xc3\\xa9s': 4410.493885091368,\n",
       " 'Isidro Casanova': 16530.32226720919,\n",
       " 'Islas': 17227.860696034077,\n",
       " 'Islas del Canal': 46614.99374374841,\n",
       " 'Ituzaing\\xc3\\xb3': 16330.696027846834,\n",
       " 'Jose Leon Suarez': 17626.775035440318,\n",
       " 'Jose Marmol': 32487.752268291868,\n",
       " 'Jos\\xc3\\xa9 C Paz': 8270.81096510403,\n",
       " 'La Ang\\xc3\\xa9lica': 22711.516743498705,\n",
       " 'La Arboleda de Maschwitz': 2242.685079688775,\n",
       " 'La Candelaria de Maschwitz': 6288.00550388313,\n",
       " 'La Cesarina': 6386.062270856276,\n",
       " 'La Comarca': 31888.55770943325,\n",
       " 'La Lonja': 12845.478911055403,\n",
       " 'La Lucila': 46225.6210108362,\n",
       " 'La Madrugada': 25302.941786114865,\n",
       " 'La Martinica': 26201.03870803323,\n",
       " 'La Matanza': 30892.87919678053,\n",
       " 'La Peregrina': 23309.256483257257,\n",
       " 'La Pilarica': 24006.645443695787,\n",
       " 'La Plata': 34979.864968012356,\n",
       " 'La Reja': 6981.83056854152,\n",
       " 'La Tablada': 11055.250113771663,\n",
       " 'La Uni\\xc3\\xb3n': 10459.975840218154,\n",
       " 'La horqueta de Echeverr\\xc3\\xada': 15831.538271836553,\n",
       " 'Laguna del Sol': 39163.47187309338,\n",
       " 'Lan\\xc3\\xbas': 25103.79194037776,\n",
       " 'Lan\\xc3\\xbas Este': 23708.504647954054,\n",
       " 'Lan\\xc3\\xbas Oeste': 30194.09608308343,\n",
       " 'Las Ca\\xc3\\xb1itas': 47797.64415888241,\n",
       " 'Las Golondrinas': 34183.763952762216,\n",
       " 'Libertad': 3025.4774248953036,\n",
       " 'Liniers': 38964.76237954012,\n",
       " 'Lisandro Olmos': 6188.578335307025,\n",
       " 'Llavallol': 16130.97743123796,\n",
       " 'Loma Hermosa': 8969.024534106133,\n",
       " 'Loma Verde': 25003.920978915292,\n",
       " 'Lomas de Benavidez': 21414.7545564793,\n",
       " 'Lomas de Zamora': 36774.02222660869,\n",
       " 'Lomas del Mirador': 22112.832692859592,\n",
       " 'Longchamps': 8370.758578969402,\n",
       " 'Los Angeles Village': 21813.724228889143,\n",
       " 'Los Horneros CC': 2143.91964759001,\n",
       " 'Los Hornos': 12249.262271214084,\n",
       " 'Los Lagartos Country Club': 21314.990036594052,\n",
       " 'Los Pilares - Barrio Privado': 20715.80620981626,\n",
       " 'Los Ping\\xc3\\xbcinos Country Club': 2730.827288179787,\n",
       " 'Los Polvorines': 12545.775673174714,\n",
       " 'Los Robles de Maschwitz': 19020.539094186963,\n",
       " 'Los Sauces Country Club': 30992.826743344052,\n",
       " 'Los Tres Coniles': 19220.22941764303,\n",
       " 'Luis Guill\\xc3\\xb3n': 7478.1498326950295,\n",
       " 'Malvinas Argentinas': 8470.72808235266,\n",
       " 'Manuel Alberti': 13045.111312078447,\n",
       " 'Manuel B Gonnet': 15631.823203662947,\n",
       " 'Manzanares': 13940.834359715107,\n",
       " 'Manzone': 47700.125399079065,\n",
       " 'Mapuche Country Club': 24305.312295719687,\n",
       " 'Maquinista Savio': 11653.190739484191,\n",
       " 'Marcos Paz': 5000.640220264184,\n",
       " 'Mariano Acosta': 1849.3691357813527,\n",
       " 'Marinas Golf Barrio Cerrado': 43047.80995234785,\n",
       " 'Martindale Country Club': 39960.83307034822,\n",
       " 'Mart\\xc3\\xadn Coronado': 23807.763781140136,\n",
       " 'Mart\\xc3\\xadnez': 42150.62094734521,\n",
       " 'Maschwitz': 9864.694752723131,\n",
       " 'Mataderos': 33285.39235686671,\n",
       " 'Matheu': 10956.262605339927,\n",
       " 'Mayling Club de Campo': 34581.24080740969,\n",
       " 'Medal Country Club': 15931.419682983553,\n",
       " 'Melchor Romero': 3423.844126226674,\n",
       " 'Merlo': 14536.780488201006,\n",
       " 'Ministro Rivadavia': 5891.126436890994,\n",
       " 'Miraflores Country Club': 23907.076290161353,\n",
       " 'Monserrat': 42448.53302118934,\n",
       " 'Monte Castro': 39761.439592213464,\n",
       " 'Monte Chingolo': 10362.912710506609,\n",
       " 'Monte Grande': 19520.065975215915,\n",
       " 'Moreno': 22012.872652236332,\n",
       " 'Mor\\xc3\\xb3n': 30693.01777016785,\n",
       " 'Munro': 35478.92924803914,\n",
       " 'Mu\\xc3\\xb1iz': 28797.471197183313,\n",
       " 'M\\xc3\\xa1ximo Paz': 679.0852134964825,\n",
       " 'Nordelta': 44737.02090471925,\n",
       " 'Nu\\xc3\\xb1ez': 47012.23645633337,\n",
       " 'Olivos': 46128.593588794145,\n",
       " 'Olivos Golf Club': 22212.434826804805,\n",
       " 'Once': 40658.490352849316,\n",
       " 'Pablo Podest\\xc3\\xa1': 6090.171119486478,\n",
       " 'Pacheco Golf Club': 44242.00362423025,\n",
       " 'Palermo': 47505.7304771392,\n",
       " 'Palermo Chico': 47976.44365930475,\n",
       " 'Palermo Hollywood': 47210.44525242258,\n",
       " 'Palermo Soho': 47407.562500538,\n",
       " 'Palermo Viejo': 46417.28833497176,\n",
       " 'Parque Avellaneda': 31391.260582458035,\n",
       " 'Parque Centenario': 43843.851781891666,\n",
       " 'Parque Chacabuco': 38765.528374578826,\n",
       " 'Parque Chas': 40459.139704678964,\n",
       " 'Parque Leloir': 6882.682976028992,\n",
       " 'Parque Patricios': 39263.45114678264,\n",
       " 'Paso del Rey': 9068.790986539283,\n",
       " 'Paternal': 40359.394397840246,\n",
       " 'Pereyra': 27799.416593658734,\n",
       " 'Pilar': 32786.71238238956,\n",
       " 'Pilar Golf Country Club': 46914.30105979992,\n",
       " 'Pilar Green Park': 32886.397901792436,\n",
       " 'Pilar Village': 20815.649455363433,\n",
       " 'Pilar del Lago': 24205.703922054778,\n",
       " 'Pi\\xc3\\xb1eiro': 18025.89715426383,\n",
       " 'Platanos': 18423.428206427045,\n",
       " 'Pompeya': 21115.15998926075,\n",
       " 'Pontevedra': 292.52653371020125,\n",
       " 'Prados del Oeste': 17526.798865863584,\n",
       " 'Presidente Per\\xc3\\xb3n': 8870.110796731167,\n",
       " 'Puerto Madero': 48055.498451014944,\n",
       " 'QBay Yacht': 46028.97263389273,\n",
       " 'Quilmes': 38069.427121605666,\n",
       " 'Rafael Calzada': 16629.80673435231,\n",
       " 'Rafael Castillo': 12346.373829297905,\n",
       " 'Ramos Mej\\xc3\\xada': 35378.995374812046,\n",
       " 'Ranelagh': 13741.450816917473,\n",
       " 'Recoleta': 47603.88958654633,\n",
       " 'Remedios de Escalada': 27499.795778681568,\n",
       " 'Retiro': 46516.599683725326,\n",
       " 'Ricardo Rojas': 14040.780727438163,\n",
       " 'Rincon': 43246.48313756715,\n",
       " 'Rincon Del Arca': 42848.077348160485,\n",
       " 'Rinc\\xc3\\xb3n de Milberg': 33585.106770203565,\n",
       " 'Rinc\\xc3\\xb3n de la Costa': 8170.961517091223,\n",
       " 'Ringuelet': 8570.604256312698,\n",
       " 'Saavedra': 44639.385970680574,\n",
       " 'Saint Matthews': 21215.075709984852,\n",
       " 'San Alberto': 2631.9776552133803,\n",
       " 'San Andres': 22411.68032077964,\n",
       " 'San Antonio De Padua': 17826.38995487309,\n",
       " 'San Carlos': 19719.43409729137,\n",
       " 'San Cristobal': 41455.03087808757,\n",
       " 'San Diego Country Club': 2534.3393042971443,\n",
       " 'San Eliseo Country, Golf, Hotel & Spa': 18721.270463960678,\n",
       " 'San Fernando': 36972.788842861795,\n",
       " 'San Francisco Club de Campo': 18920.801609449478,\n",
       " 'San Francisco Solano': 11154.98579754185,\n",
       " 'San Isidro': 41951.68953826322,\n",
       " 'San Isidro Chico': 47881.6875970226,\n",
       " 'San Jose': 7973.242461368652,\n",
       " 'San Jos\\xc3\\xa9': 9566.254154571296,\n",
       " 'San Juan': 29395.245875385033,\n",
       " 'San Justo': 26800.157748024558,\n",
       " 'San Lorenzo': 5097.6486808742475,\n",
       " 'San Mart\\xc3\\xadn': 16828.694173821048,\n",
       " 'San Miguel': 25701.84723155593,\n",
       " 'San Miguel Oeste': 12149.598483680693,\n",
       " 'San Miguel de Ghiso': 12745.640783244098,\n",
       " 'San Nicol\\xc3\\xa1s': 43445.065428168404,\n",
       " 'San Telmo': 44341.82735619349,\n",
       " 'San Vicente': 20217.048633041875,\n",
       " 'Santa Barbara Barrio Cerrado': 45433.57095104603,\n",
       " 'Santa Isabel': 9666.238637225517,\n",
       " 'Santa Juana': 37670.69765711057,\n",
       " 'Santa Mar\\xc3\\xada de los Olivos': 17327.541831872706,\n",
       " 'Santa-Catalina': 35079.72923508022,\n",
       " 'Santos Lugares': 30293.93523736724,\n",
       " 'Santos Tesei': 2439.101209059049,\n",
       " 'Sarandi': 28198.966326073627,\n",
       " 'Septiembre': 33485.14631031361,\n",
       " 'Solar del Bosque': 9168.106558963556,\n",
       " 'Solares del Talar': 27199.95055533316,\n",
       " 'St. Patrick Country': 28996.003777523983,\n",
       " 'S\\xc3\\xa1enz Pe\\xc3\\xb1a': 36873.95365207089,\n",
       " 'Talar del Lago 1': 33085.82087494825,\n",
       " 'Talar del lago 2': 36275.86254377003,\n",
       " 'Tapiales': 26300.937857606914,\n",
       " 'Temperley': 32587.382180118268,\n",
       " 'Terravista Barrio Privado': 2048.29464759001,\n",
       " 'Tigre': 38267.086303804164,\n",
       " 'Tolosa': 14436.894525027075,\n",
       " 'Tortuguitas': 3813.6870001344564,\n",
       " 'Tres de Febrero': 19320.145522691393,\n",
       " 'Tribunales': 42748.15350399092,\n",
       " 'Trist\\xc3\\xa1n Su\\xc3\\xa1rez': 7774.786720240958,\n",
       " 'Troncos del Talar': 13344.396055709407,\n",
       " 'Trujui': 1461.6796089832987,\n",
       " 'Turdera': 22810.59274240968,\n",
       " 'Uribelarrea': 386.38021114568454,\n",
       " 'Valent\\xc3\\xadn Alsina': 19120.511034537398,\n",
       " 'Velez Sarsfield': 34481.70335904144,\n",
       " 'Versalles': 34879.91747858045,\n",
       " 'Vicente Casares': 13244.841911334473,\n",
       " 'Vicente L\\xc3\\xb3pez': 46318.0354461243,\n",
       " 'Victoria': 40858.25602356664,\n",
       " 'Villa Adelina': 22511.674137707527,\n",
       " 'Villa Ariza': 13444.163722379782,\n",
       " 'Villa Astolfi': 4210.738088996672,\n",
       " 'Villa Ayacucho': 4012.022020948982,\n",
       " 'Villa Ballester': 27999.161092861526,\n",
       " 'Villa Bertha': 24904.02351241351,\n",
       " 'Villa Bonich': 27399.808643886096,\n",
       " 'Villa Bosch': 25402.782878762766,\n",
       " 'Villa Brown': 7180.163301898767,\n",
       " 'Villa Celina': 20416.587476357217,\n",
       " 'Villa Crespo': 45731.659113507245,\n",
       " 'Villa Devoto': 42948.027317987704,\n",
       " 'Villa Dominico': 25601.88516325262,\n",
       " 'Villa Elisa': 24106.40346837362,\n",
       " 'Villa Elvira': 36674.04834595949,\n",
       " 'Villa Espa\\xc3\\xb1a': 32287.86607740358,\n",
       " 'Villa Fiorito': 1363.0824787889871,\n",
       " 'Villa General Mitre': 37869.8544472348,\n",
       " 'Villa Libertad': 11752.91774287888,\n",
       " 'Villa Lugano': 23409.152972672364,\n",
       " 'Villa Luro': 41753.7781410008,\n",
       " 'Villa Luzuriaga': 25801.604389270105,\n",
       " 'Villa Lynch': 16928.01471990257,\n",
       " 'Villa Madero': 23010.076505391535,\n",
       " 'Villa Maipu': 18821.219626396112,\n",
       " 'Villa Martelli': 29095.58181867008,\n",
       " 'Villa Monteagudo': 11254.793226126712,\n",
       " 'Villa Ortuzar': 43743.903946107734,\n",
       " 'Villa Pacheco': 20017.686827285725,\n",
       " 'Villa Pueyrred\\xc3\\xb3n': 40259.758472231944,\n",
       " 'Villa Raffo': 27000.06595554931,\n",
       " 'Villa Real': 34780.38189708637,\n",
       " 'Villa Riachuelo': 22311.71470271128,\n",
       " 'Villa Rosa': 32986.37204005915,\n",
       " 'Villa Santa Rita': 39861.048018406764,\n",
       " 'Villa Sarmiento': 30593.196243402377,\n",
       " 'Villa Soldati': 15433.038339603616,\n",
       " 'Villa Tesei': 7378.804744274166,\n",
       " 'Villa Udaondo': 6783.1387694222085,\n",
       " 'Villa Urquiza': 45533.014009026425,\n",
       " 'Villa Vatteone': 18224.210983350895,\n",
       " 'Villa de Mayo': 19420.126092873415,\n",
       " 'Villa del Parque': 43146.5138043728,\n",
       " 'Village Golf & Tennis Country Club': 26001.3015858766,\n",
       " 'Virrey del Pino': 4803.646310194188,\n",
       " 'Virreyes': 15034.356023299337,\n",
       " 'Wilde': 35678.192463537904,\n",
       " 'William Morris': 16230.698224101561,\n",
       " 'Zeballos': 4310.614755663339,\n",
       " 'Zelaya': 5393.91749771209,\n",
       " 'coordenadas 34.255511': 44042.50641330312}"
      ]
     },
     "execution_count": 25,
     "metadata": {},
     "output_type": "execute_result"
    }
   ],
   "source": [
    "HGdics"
   ]
  },
  {
   "cell_type": "code",
   "execution_count": 26,
   "metadata": {
    "collapsed": true
   },
   "outputs": [],
   "source": [
    "def asignarPVsegunEnt(name):\n",
    "    if(HGdics.has_key(name)):\n",
    "        return HGdics[name]\n",
    "    return np.nan"
   ]
  },
  {
   "cell_type": "code",
   "execution_count": 27,
   "metadata": {
    "collapsed": true
   },
   "outputs": [],
   "source": [
    "#hay que armar los hoodGropus segun los resultados del set de Entrenamiento\n",
    "p[\"place_value\"] = p.apply(lambda x: asignarPVsegunEnt(x[1]), axis=1)"
   ]
  },
  {
   "cell_type": "code",
   "execution_count": 28,
   "metadata": {
    "collapsed": true
   },
   "outputs": [],
   "source": [
    "#completo las superficies totales con las cubiertas\n",
    "p['surface_total_in_m2'] = p.apply(lambda row: row[3] if(np.all(pd.isnull(row[2]))) else row[2], axis=1)"
   ]
  },
  {
   "cell_type": "code",
   "execution_count": 30,
   "metadata": {
    "collapsed": true
   },
   "outputs": [],
   "source": [
    "pPru = p[['property_type','surface_total_in_m2',\\\n",
    "        'lat','lon','Cant_LocalesGastronomicos',\n",
    "         'Cant_ParadasTransporte', 'place_value']]"
   ]
  },
  {
   "cell_type": "markdown",
   "metadata": {},
   "source": [
    "# PRUEBA Random Forest Regresivo"
   ]
  },
  {
   "cell_type": "code",
   "execution_count": 31,
   "metadata": {
    "collapsed": true
   },
   "outputs": [],
   "source": [
    "Xtrn, Xtest, Ytrn, Ytest = train_test_split(pEnt[['property_type','surface_total_in_m2',\n",
    "        'lat','lon','Cant_LocalesGastronomicos','Cant_ParadasTransporte',\n",
    "        'place_value']],pEnt[['price_aprox_usd']],test_size=0.0)"
   ]
  },
  {
   "cell_type": "code",
   "execution_count": 33,
   "metadata": {},
   "outputs": [
    {
     "data": {
      "text/plain": [
       "RandomForestRegressor(bootstrap=True, criterion='mse', max_depth=None,\n",
       "           max_features='log2', max_leaf_nodes=None,\n",
       "           min_impurity_decrease=0.0, min_impurity_split=None,\n",
       "           min_samples_leaf=2, min_samples_split=4,\n",
       "           min_weight_fraction_leaf=0.0, n_estimators=1000, n_jobs=1,\n",
       "           oob_score=True, random_state=None, verbose=0, warm_start=False)"
      ]
     },
     "execution_count": 33,
     "metadata": {},
     "output_type": "execute_result"
    }
   ],
   "source": [
    "#definir el modelo a probar\n",
    "model = RandomForestRegressor(n_estimators=1000, max_features='log2', min_samples_leaf=2, min_samples_split=4, bootstrap=True, oob_score=True)\n",
    "n = 1000\n",
    "\n",
    "#fit model on training dataset\n",
    "model.fit(Xtrn, Ytrn['price_aprox_usd'])"
   ]
  },
  {
   "cell_type": "code",
   "execution_count": 58,
   "metadata": {},
   "outputs": [
    {
     "name": "stdout",
     "output_type": "stream",
     "text": [
      "<class 'pandas.core.frame.DataFrame'>\n",
      "RangeIndex: 14166 entries, 0 to 14165\n",
      "Data columns (total 8 columns):\n",
      "property_type                14166 non-null int64\n",
      "surface_total_in_m2          13392 non-null float64\n",
      "lat                          12586 non-null float64\n",
      "lon                          12586 non-null float64\n",
      "Cant_ColeYUniv               12586 non-null float64\n",
      "Cant_LocalesGastronomicos    12586 non-null float64\n",
      "Cant_ParadasTransporte       12586 non-null float64\n",
      "place_value                  14156 non-null float64\n",
      "dtypes: float64(7), int64(1)\n",
      "memory usage: 885.4 KB\n"
     ]
    }
   ],
   "source": [
    "pPru.info()"
   ]
  },
  {
   "cell_type": "code",
   "execution_count": 34,
   "metadata": {
    "collapsed": true
   },
   "outputs": [],
   "source": [
    "from sklearn.preprocessing import Imputer\n",
    "#hay que llenar el resto de los valores nan\n",
    "\n",
    "# Create our imputer to replace missing values with the mean e.g.\n",
    "imp = Imputer(missing_values=np.nan, strategy='most_frequent', axis=0)\n",
    "imp = imp.fit(Xtrn)\n",
    "\n",
    "pPru_imp = imp.transform(pPru)"
   ]
  },
  {
   "cell_type": "code",
   "execution_count": 39,
   "metadata": {},
   "outputs": [
    {
     "name": "stderr",
     "output_type": "stream",
     "text": [
      "/usr/local/lib/python2.7/dist-packages/ipykernel_launcher.py:1: SettingWithCopyWarning: \n",
      "A value is trying to be set on a copy of a slice from a DataFrame.\n",
      "Try using .loc[row_indexer,col_indexer] = value instead\n",
      "\n",
      "See the caveats in the documentation: http://pandas.pydata.org/pandas-docs/stable/indexing.html#indexing-view-versus-copy\n",
      "  \"\"\"Entry point for launching an IPython kernel.\n"
     ]
    }
   ],
   "source": [
    "pPru['price_usd'] = model.predict(pPru_imp)"
   ]
  },
  {
   "cell_type": "code",
   "execution_count": 35,
   "metadata": {},
   "outputs": [
    {
     "name": "stdout",
     "output_type": "stream",
     "text": [
      "<class 'pandas.core.frame.DataFrame'>\n",
      "RangeIndex: 14166 entries, 0 to 14165\n",
      "Data columns (total 9 columns):\n",
      "property_type                14166 non-null int64\n",
      "surface_total_in_m2          13392 non-null float64\n",
      "lat                          12586 non-null float64\n",
      "lon                          12586 non-null float64\n",
      "Cant_ColeYUniv               12586 non-null float64\n",
      "Cant_LocalesGastronomicos    12586 non-null float64\n",
      "Cant_ParadasTransporte       12586 non-null float64\n",
      "place_value                  14156 non-null float64\n",
      "price_usd_per_m2             14166 non-null float64\n",
      "dtypes: float64(8), int64(1)\n",
      "memory usage: 996.1 KB\n"
     ]
    }
   ],
   "source": [
    "pPru.info()"
   ]
  },
  {
   "cell_type": "code",
   "execution_count": 37,
   "metadata": {
    "collapsed": true
   },
   "outputs": [],
   "source": [
    "result = pd.DataFrame()"
   ]
  },
  {
   "cell_type": "code",
   "execution_count": 38,
   "metadata": {
    "collapsed": true
   },
   "outputs": [],
   "source": [
    "result[\"id\"] = proper[\"id\"]"
   ]
  },
  {
   "cell_type": "code",
   "execution_count": 40,
   "metadata": {
    "collapsed": true
   },
   "outputs": [],
   "source": [
    "result[\"price_usd\"] = pPru['price_usd']"
   ]
  },
  {
   "cell_type": "code",
   "execution_count": 41,
   "metadata": {},
   "outputs": [
    {
     "data": {
      "text/html": [
       "<div>\n",
       "<style>\n",
       "    .dataframe thead tr:only-child th {\n",
       "        text-align: right;\n",
       "    }\n",
       "\n",
       "    .dataframe thead th {\n",
       "        text-align: left;\n",
       "    }\n",
       "\n",
       "    .dataframe tbody tr th {\n",
       "        vertical-align: top;\n",
       "    }\n",
       "</style>\n",
       "<table border=\"1\" class=\"dataframe\">\n",
       "  <thead>\n",
       "    <tr style=\"text-align: right;\">\n",
       "      <th></th>\n",
       "      <th>id</th>\n",
       "      <th>price_usd</th>\n",
       "    </tr>\n",
       "  </thead>\n",
       "  <tbody>\n",
       "    <tr>\n",
       "      <th>0</th>\n",
       "      <td>2316505</td>\n",
       "      <td>100740.829984</td>\n",
       "    </tr>\n",
       "    <tr>\n",
       "      <th>1</th>\n",
       "      <td>2320880</td>\n",
       "      <td>175592.750979</td>\n",
       "    </tr>\n",
       "    <tr>\n",
       "      <th>2</th>\n",
       "      <td>2321742</td>\n",
       "      <td>216809.696688</td>\n",
       "    </tr>\n",
       "    <tr>\n",
       "      <th>3</th>\n",
       "      <td>2276796</td>\n",
       "      <td>94342.544866</td>\n",
       "    </tr>\n",
       "    <tr>\n",
       "      <th>4</th>\n",
       "      <td>2330364</td>\n",
       "      <td>77784.871841</td>\n",
       "    </tr>\n",
       "  </tbody>\n",
       "</table>\n",
       "</div>"
      ],
      "text/plain": [
       "        id      price_usd\n",
       "0  2316505  100740.829984\n",
       "1  2320880  175592.750979\n",
       "2  2321742  216809.696688\n",
       "3  2276796   94342.544866\n",
       "4  2330364   77784.871841"
      ]
     },
     "execution_count": 41,
     "metadata": {},
     "output_type": "execute_result"
    }
   ],
   "source": [
    "result.head()"
   ]
  },
  {
   "cell_type": "code",
   "execution_count": 42,
   "metadata": {
    "collapsed": true
   },
   "outputs": [],
   "source": [
    "result.to_csv(index=False, path_or_buf=\"results4PhiAlpha.csv\")"
   ]
  },
  {
   "cell_type": "code",
   "execution_count": 40,
   "metadata": {
    "collapsed": true
   },
   "outputs": [],
   "source": [
    "#para ver mas o menos que tan lejos quedo\n",
    "result[\"real_price_usd\"] = proper['price_aprox_usd']"
   ]
  },
  {
   "cell_type": "code",
   "execution_count": 42,
   "metadata": {},
   "outputs": [
    {
     "data": {
      "text/html": [
       "<div>\n",
       "<style>\n",
       "    .dataframe thead tr:only-child th {\n",
       "        text-align: right;\n",
       "    }\n",
       "\n",
       "    .dataframe thead th {\n",
       "        text-align: left;\n",
       "    }\n",
       "\n",
       "    .dataframe tbody tr th {\n",
       "        vertical-align: top;\n",
       "    }\n",
       "</style>\n",
       "<table border=\"1\" class=\"dataframe\">\n",
       "  <thead>\n",
       "    <tr style=\"text-align: right;\">\n",
       "      <th></th>\n",
       "      <th>id</th>\n",
       "      <th>price_usd</th>\n",
       "      <th>real_price_usd</th>\n",
       "    </tr>\n",
       "  </thead>\n",
       "  <tbody>\n",
       "    <tr>\n",
       "      <th>0</th>\n",
       "      <td>2316505</td>\n",
       "      <td>217547.459120</td>\n",
       "      <td>11111.00</td>\n",
       "    </tr>\n",
       "    <tr>\n",
       "      <th>1</th>\n",
       "      <td>2320880</td>\n",
       "      <td>194063.271378</td>\n",
       "      <td>11111.00</td>\n",
       "    </tr>\n",
       "    <tr>\n",
       "      <th>2</th>\n",
       "      <td>2321742</td>\n",
       "      <td>172941.927841</td>\n",
       "      <td>12554.74</td>\n",
       "    </tr>\n",
       "    <tr>\n",
       "      <th>3</th>\n",
       "      <td>2276796</td>\n",
       "      <td>81491.590068</td>\n",
       "      <td>13000.00</td>\n",
       "    </tr>\n",
       "    <tr>\n",
       "      <th>4</th>\n",
       "      <td>2330364</td>\n",
       "      <td>63278.760907</td>\n",
       "      <td>13000.00</td>\n",
       "    </tr>\n",
       "  </tbody>\n",
       "</table>\n",
       "</div>"
      ],
      "text/plain": [
       "        id      price_usd  real_price_usd\n",
       "0  2316505  217547.459120        11111.00\n",
       "1  2320880  194063.271378        11111.00\n",
       "2  2321742  172941.927841        12554.74\n",
       "3  2276796   81491.590068        13000.00\n",
       "4  2330364   63278.760907        13000.00"
      ]
     },
     "execution_count": 42,
     "metadata": {},
     "output_type": "execute_result"
    }
   ],
   "source": [
    "result.head()"
   ]
  }
 ],
 "metadata": {
  "kernelspec": {
   "display_name": "Python 2",
   "language": "python",
   "name": "python2"
  },
  "language_info": {
   "codemirror_mode": {
    "name": "ipython",
    "version": 2
   },
   "file_extension": ".py",
   "mimetype": "text/x-python",
   "name": "python",
   "nbconvert_exporter": "python",
   "pygments_lexer": "ipython2",
   "version": "2.7.13"
  }
 },
 "nbformat": 4,
 "nbformat_minor": 2
}

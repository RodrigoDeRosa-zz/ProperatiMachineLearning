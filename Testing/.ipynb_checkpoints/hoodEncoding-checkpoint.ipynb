{
 "cells": [
  {
   "cell_type": "code",
   "execution_count": 2,
   "metadata": {},
   "outputs": [],
   "source": [
    "import pandas as pd\n",
    "import numpy as np\n",
    "import cPickle as pickle"
   ]
  },
  {
   "cell_type": "code",
   "execution_count": 3,
   "metadata": {},
   "outputs": [],
   "source": [
    "raw_data = pickle.load(open('../../Data.p', 'rb'))"
   ]
  },
  {
   "cell_type": "code",
   "execution_count": 45,
   "metadata": {},
   "outputs": [],
   "source": [
    "#Data a utilizar\n",
    "data = raw_data[['place_name', 'property_type', 'surface_total_in_m2', 'surface_covered_in_m2', 'price_usd_per_m2', \\\n",
    "                'Cant_ColeYUniv', 'Cant_LocalesGastronomicos', 'Cant_ParadasTransporte', \\\n",
    "                'Cant_LugaresTuristicos']]"
   ]
  },
  {
   "cell_type": "code",
   "execution_count": 46,
   "metadata": {},
   "outputs": [],
   "source": [
    "data = data.dropna(subset = ['place_name'])"
   ]
  },
  {
   "cell_type": "code",
   "execution_count": 47,
   "metadata": {},
   "outputs": [],
   "source": [
    "#Funcion que pone al barrio como default si el nombre lo contiene\n",
    "def unify_hood(hood, default):\n",
    "    if default in hood:\n",
    "        hood = default\n",
    "    return hood"
   ]
  },
  {
   "cell_type": "code",
   "execution_count": 116,
   "metadata": {
    "scrolled": false
   },
   "outputs": [],
   "source": [
    "data['place_name'] = data['place_name'].apply(lambda x: unify_hood(x, \"Palermo\"))\n",
    "data['place_name'] = data['place_name'].apply(lambda x: unify_hood(x, \"San Martín\"))\n",
    "data['place_name'] = data['place_name'].apply(lambda x: unify_hood(x, \"Lanús\"))"
   ]
  },
  {
   "cell_type": "code",
   "execution_count": 129,
   "metadata": {},
   "outputs": [],
   "source": [
    "to_use = data[(data['price_usd_per_m2']>150) & (data['price_usd_per_m2']<8000)]"
   ]
  },
  {
   "cell_type": "code",
   "execution_count": 130,
   "metadata": {},
   "outputs": [],
   "source": [
    "by_hood = to_use[['place_name', 'price_usd_per_m2']].groupby('place_name').agg([np.mean, np.size])"
   ]
  },
  {
   "cell_type": "code",
   "execution_count": 131,
   "metadata": {},
   "outputs": [],
   "source": [
    "by_hood = by_hood[(by_hood[('price_usd_per_m2', 'size')] > 48)]"
   ]
  },
  {
   "cell_type": "code",
   "execution_count": 132,
   "metadata": {},
   "outputs": [],
   "source": [
    "by_hood = by_hood[[('price_usd_per_m2', 'mean')]]\n",
    "by_hood.columns = [['avg_price']]"
   ]
  },
  {
   "cell_type": "code",
   "execution_count": 133,
   "metadata": {},
   "outputs": [],
   "source": [
    "sorted_hoods = by_hood.sort_values('avg_price', ascending = False)"
   ]
  },
  {
   "cell_type": "code",
   "execution_count": 138,
   "metadata": {},
   "outputs": [],
   "source": [
    "indexer = sorted_hoods.reset_index().reset_index()"
   ]
  },
  {
   "cell_type": "code",
   "execution_count": 144,
   "metadata": {},
   "outputs": [],
   "source": [
    "#Creamos un diccionario donde pondremos como clave el nombre del barrio y como valor el numero que lo identifica\n",
    "hoods = {}\n",
    "#Funcion que llena el diccionario\n",
    "def fill_dict(row):\n",
    "    if row.place_name not in hoods.keys():\n",
    "        hoods[row.place_name] = row[0]\n",
    "    return row"
   ]
  },
  {
   "cell_type": "code",
   "execution_count": 145,
   "metadata": {},
   "outputs": [
    {
     "name": "stdout",
     "output_type": "stream",
     "text": [
      "{'San Miguel': 101, 'Villa Lugano': 107, 'El Palomar': 122, 'Caballito': 17, 'San Andres': 111, 'Olivos': 10, 'Acassuso': 41, 'Parque Centenario': 25, 'Quilmes': 55, 'Pilar Village': 117, 'San Vicente': 115, 'La Plata': 69, 'Esteban Echeverr\\xc3\\xada': 89, 'Ezeiza': 98, 'Villa Luzuriaga': 100, 'Victoria': 40, 'Mataderos': 76, 'Beccar': 66, 'Merlo': 127, 'Centro / Microcentro': 22, 'Ciudadela': 105, 'Tres de Febrero': 121, 'General Rodr\\xc3\\xadguez': 119, 'Constituci\\xc3\\xb3n': 58, 'Gar\\xc3\\xadn': 140, 'Villa Ballester': 94, 'Barracas': 48, 'Remedios de Escalada': 99, 'Bella Vista': 131, 'Villa Libertad': 135, 'Parque Patricios': 52, 'Once': 42, 'Retiro': 8, 'Isidro Casanova': 129, 'Monte Castro': 49, 'Villa Devoto': 28, 'Chacarita': 31, 'Castelar': 83, 'Almagro': 26, 'Los Polvorines': 132, 'Villa Crespo': 11, 'San Antonio De Padua': 123, 'Del Viso': 113, 'City Bell': 72, 'Puerto Madero': 0, 'Haedo': 81, 'Villa Rosa': 78, 'Colegiales': 12, 'Mart\\xc3\\xadn Coronado': 104, 'Barrio San Gabriel': 92, 'Boedo': 29, 'San Mart\\xc3\\xadn': 116, 'Saavedra': 19, 'Glew': 124, 'BarrioPortezuelo': 16, 'Bel\\xc3\\xa9n de Escobar': 137, 'Bs.As. G.B.A. Zona Oeste': 130, 'Mor\\xc3\\xb3n': 87, 'Villa Sarmiento': 88, 'Villa Luro': 35, 'Barrio Norte': 6, 'Monserrat': 32, 'Don Torcuato': 133, 'Parque Leloir': 145, 'San Fernando': 60, 'Hurlingham': 134, 'S\\xc3\\xa1enz Pe\\xc3\\xb1a': 61, 'Pilar': 80, 'Florida': 39, 'Tigre': 53, 'Burzaco': 139, 'Moreno': 109, 'Villa General Mitre': 54, 'Canning': 65, 'Lomas del Mirador': 112, 'San Telmo': 21, 'Banfield': 59, 'Abasto': 38, 'Boca': 70, 'Ciudad Jard\\xc3\\xadn Lomas del Palomar': 90, 'Wilde': 64, 'Liniers': 51, 'Fincas de Iraola': 50, 'Tribunales': 30, 'Lomas de Zamora': 62, 'San Cristobal': 36, 'Paternal': 43, 'Villa Bosch': 103, 'Carapachay': 93, 'Paso del Rey': 136, 'Villa Madero': 108, 'Avellaneda': 71, 'Las Ca\\xc3\\xb1itas': 1, 'Villa del Parque': 27, 'Barrio La Alameda': 63, 'Villa Adelina': 110, 'Flores': 37, 'Santa Barbara Barrio Cerrado': 15, 'Congreso': 47, 'Palermo': 3, 'Temperley': 79, 'Benavidez': 144, 'Mart\\xc3\\xadnez': 33, 'Vicente L\\xc3\\xb3pez': 7, 'San Nicol\\xc3\\xa1s': 24, 'La Lucila': 9, 'Santos Lugares': 86, 'Capital Federal': 75, 'Coghlan': 13, 'Recoleta': 2, 'Parque Chacabuco': 57, 'Jos\\xc3\\xa9 C Paz': 143, 'Bs.As. G.B.A. Zona Norte': 106, 'Adrogu\\xc3\\xa9': 82, 'Longchamps': 141, 'Valent\\xc3\\xadn Alsina': 118, 'Nu\\xc3\\xb1ez': 5, 'Ramos Mej\\xc3\\xada': 68, 'Balvanera': 45, 'Belgrano': 4, 'La Matanza': 84, 'Boulogne Sur Mer': 126, 'Berazategui': 73, 'Floresta': 56, 'Villa Pueyrred\\xc3\\xb3n': 44, 'Villa Urquiza': 14, 'Maschwitz': 138, 'San Isidro': 34, 'Lan\\xc3\\xbas': 95, 'Parque Avellaneda': 85, 'Bernal': 77, 'Caseros': 96, 'Munro': 67, 'Ituzaing\\xc3\\xb3': 128, 'Villa Udaondo': 146, 'San Justo': 102, 'Villa Ortuzar': 20, 'Monte Grande': 120, 'Barrio Los Alisos': 23, 'Mu\\xc3\\xb1iz': 91, 'General Pacheco': 97, 'Escobar': 114, 'Barrio Los Lagos': 46, 'Jose Marmol': 74, 'Jose Leon Suarez': 125, 'Nordelta': 18, 'Malvinas Argentinas': 142}\n"
     ]
    }
   ],
   "source": [
    "indexer.apply(fill_dict, axis = 1)\n",
    "print hoods"
   ]
  },
  {
   "cell_type": "code",
   "execution_count": null,
   "metadata": {},
   "outputs": [],
   "source": []
  }
 ],
 "metadata": {
  "kernelspec": {
   "display_name": "Python 2",
   "language": "python",
   "name": "python2"
  },
  "language_info": {
   "codemirror_mode": {
    "name": "ipython",
    "version": 2
   },
   "file_extension": ".py",
   "mimetype": "text/x-python",
   "name": "python",
   "nbconvert_exporter": "python",
   "pygments_lexer": "ipython2",
   "version": "2.7.14"
  }
 },
 "nbformat": 4,
 "nbformat_minor": 2
}

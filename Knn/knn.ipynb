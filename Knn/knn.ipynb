{
 "cells": [
  {
   "cell_type": "code",
   "execution_count": 1,
   "metadata": {},
   "outputs": [
    {
     "name": "stderr",
     "output_type": "stream",
     "text": [
      "/usr/local/lib/python2.7/dist-packages/sklearn/cross_validation.py:41: DeprecationWarning: This module was deprecated in version 0.18 in favor of the model_selection module into which all the refactored classes and functions are moved. Also note that the interface of the new CV iterators are different from that of this module. This module will be removed in 0.20.\n",
      "  \"This module will be removed in 0.20.\", DeprecationWarning)\n"
     ]
    }
   ],
   "source": [
    "import pandas as pd\n",
    "import numpy as np\n",
    "import cPickle as pickle\n",
    "\n",
    "from sklearn import neighbors\n",
    "from sklearn.metrics import mean_squared_error\n",
    "from sklearn.cross_validation import train_test_split"
   ]
  },
  {
   "cell_type": "code",
   "execution_count": 2,
   "metadata": {
    "collapsed": true
   },
   "outputs": [],
   "source": [
    "prop = pickle.load(open(\"../../datos/Data.p\",\"rb\"))"
   ]
  },
  {
   "cell_type": "markdown",
   "metadata": {},
   "source": [
    "# Nos quedamos con la parte del set de datos que nos importa"
   ]
  },
  {
   "cell_type": "code",
   "execution_count": 3,
   "metadata": {
    "scrolled": true
   },
   "outputs": [
    {
     "name": "stderr",
     "output_type": "stream",
     "text": [
      "/home/facundo/.local/lib/python2.7/site-packages/ipykernel_launcher.py:3: SettingWithCopyWarning: \n",
      "A value is trying to be set on a copy of a slice from a DataFrame\n",
      "\n",
      "See the caveats in the documentation: http://pandas.pydata.org/pandas-docs/stable/indexing.html#indexing-view-versus-copy\n",
      "  This is separate from the ipykernel package so we can avoid doing imports until\n"
     ]
    }
   ],
   "source": [
    "p = prop[['property_type','place_name','surface_total_in_m2','surface_covered_in_m2',\\\n",
    "          'price_usd_per_m2','latlon','Cant_ColeYUniv','Cant_LocalesGastronomicos',\n",
    "         'Cant_LugaresTuristicos']]\n",
    "p.dropna(inplace = True)"
   ]
  },
  {
   "cell_type": "markdown",
   "metadata": {},
   "source": [
    "# Separamos la Latitud-Longitud"
   ]
  },
  {
   "cell_type": "code",
   "execution_count": 4,
   "metadata": {},
   "outputs": [
    {
     "name": "stderr",
     "output_type": "stream",
     "text": [
      "/home/facundo/.local/lib/python2.7/site-packages/ipykernel_launcher.py:1: SettingWithCopyWarning: \n",
      "A value is trying to be set on a copy of a slice from a DataFrame.\n",
      "Try using .loc[row_indexer,col_indexer] = value instead\n",
      "\n",
      "See the caveats in the documentation: http://pandas.pydata.org/pandas-docs/stable/indexing.html#indexing-view-versus-copy\n",
      "  \"\"\"Entry point for launching an IPython kernel.\n"
     ]
    }
   ],
   "source": [
    "p['lat'] = p.apply(lambda row: row[5][0], axis=1)"
   ]
  },
  {
   "cell_type": "code",
   "execution_count": 5,
   "metadata": {},
   "outputs": [
    {
     "name": "stderr",
     "output_type": "stream",
     "text": [
      "/home/facundo/.local/lib/python2.7/site-packages/ipykernel_launcher.py:1: SettingWithCopyWarning: \n",
      "A value is trying to be set on a copy of a slice from a DataFrame.\n",
      "Try using .loc[row_indexer,col_indexer] = value instead\n",
      "\n",
      "See the caveats in the documentation: http://pandas.pydata.org/pandas-docs/stable/indexing.html#indexing-view-versus-copy\n",
      "  \"\"\"Entry point for launching an IPython kernel.\n"
     ]
    }
   ],
   "source": [
    "p['lon'] = p.apply(lambda row: row[5][1], axis=1)"
   ]
  },
  {
   "cell_type": "code",
   "execution_count": 6,
   "metadata": {
    "collapsed": true
   },
   "outputs": [],
   "source": [
    "p = p[['property_type','place_name','surface_total_in_m2','surface_covered_in_m2',\\\n",
    "          'price_usd_per_m2','lat','lon','Cant_ColeYUniv','Cant_LocalesGastronomicos',\n",
    "         'Cant_LugaresTuristicos']]"
   ]
  },
  {
   "cell_type": "markdown",
   "metadata": {},
   "source": [
    "# Asignamos un valor numerico al tipo de propiedad"
   ]
  },
  {
   "cell_type": "code",
   "execution_count": 7,
   "metadata": {
    "collapsed": true
   },
   "outputs": [],
   "source": [
    "def asignarPT( p ):\n",
    "    if p == 'apartment':\n",
    "        return 0\n",
    "    if p == 'house':\n",
    "        return 1\n",
    "    if p == 'store':\n",
    "        return 2\n",
    "    return 3"
   ]
  },
  {
   "cell_type": "code",
   "execution_count": 8,
   "metadata": {
    "collapsed": true
   },
   "outputs": [],
   "source": [
    "p['property_type'] = p.apply(lambda x: asignarPT(x[0]), axis = 1)"
   ]
  },
  {
   "cell_type": "markdown",
   "metadata": {},
   "source": [
    "# Asignamos un valor a los barrios"
   ]
  },
  {
   "cell_type": "code",
   "execution_count": 9,
   "metadata": {
    "collapsed": true
   },
   "outputs": [],
   "source": [
    "def asignarPV(name, dic):\n",
    "    return dic[name]"
   ]
  },
  {
   "cell_type": "code",
   "execution_count": 10,
   "metadata": {
    "collapsed": true
   },
   "outputs": [],
   "source": [
    "hoodGroups = p[[\"place_name\", \"price_usd_per_m2\"]]\n",
    "hoodGroups = hoodGroups.groupby(\"place_name\").agg([np.mean]).reset_index()\n",
    "hoodGroups = hoodGroups.sort_values(by=(\"price_usd_per_m2\", \"mean\"), ascending=False)"
   ]
  },
  {
   "cell_type": "code",
   "execution_count": 11,
   "metadata": {
    "collapsed": true
   },
   "outputs": [],
   "source": [
    "HGdics = {}\n",
    "precio_ant = 0\n",
    "val_ant = 0\n",
    "for row in hoodGroups.iterrows():\n",
    "    name = row[1][0]\n",
    "    price = row[1][1]\n",
    "    val = val_ant + (precio_ant/price)*10\n",
    "    HGdics[name] = val\n",
    "    precio_ant = price\n",
    "    val_ant = val"
   ]
  },
  {
   "cell_type": "code",
   "execution_count": 12,
   "metadata": {
    "collapsed": true
   },
   "outputs": [],
   "source": [
    "p[\"place_value\"] = p.apply(lambda x: asignarPV(x[1], HGdics), axis=1)"
   ]
  },
  {
   "cell_type": "code",
   "execution_count": 13,
   "metadata": {
    "collapsed": true
   },
   "outputs": [],
   "source": [
    "p = p[['property_type','surface_total_in_m2','surface_covered_in_m2',\\\n",
    "          'price_usd_per_m2','lat','lon','Cant_ColeYUniv','Cant_LocalesGastronomicos',\n",
    "         'Cant_LugaresTuristicos', 'place_value']]"
   ]
  },
  {
   "cell_type": "markdown",
   "metadata": {},
   "source": [
    "# KNN"
   ]
  },
  {
   "cell_type": "code",
   "execution_count": 14,
   "metadata": {
    "collapsed": true
   },
   "outputs": [],
   "source": [
    "Xtrn, Xtest, Ytrn, Ytest = train_test_split(p[['property_type','surface_total_in_m2','surface_covered_in_m2',\n",
    "        'lat','lon','Cant_ColeYUniv','Cant_LocalesGastronomicos','Cant_LugaresTuristicos',\n",
    "        'place_value']],p[['price_usd_per_m2']],test_size=0.2)"
   ]
  },
  {
   "cell_type": "code",
   "execution_count": 15,
   "metadata": {
    "collapsed": true
   },
   "outputs": [],
   "source": [
    "columnas = ['surface_total_in_m2','surface_covered_in_m2',\\\n",
    "        'Cant_ColeYUniv','Cant_LocalesGastronomicos',\\\n",
    "        'Cant_LugaresTuristicos']"
   ]
  },
  {
   "cell_type": "code",
   "execution_count": 16,
   "metadata": {
    "collapsed": true
   },
   "outputs": [],
   "source": [
    "#Parametros modificables de knn\n",
    "lista_distancias = [1,2] #1 es manhattan, 2 euclidea\n",
    "lista_vecinos = [x for x in xrange(1,10)]\n",
    "lista_algoritmos = ['auto', 'ball_tree', 'kd_tree']"
   ]
  },
  {
   "cell_type": "code",
   "execution_count": 17,
   "metadata": {
    "collapsed": true
   },
   "outputs": [],
   "source": [
    "aux = Ytest.copy()"
   ]
  },
  {
   "cell_type": "code",
   "execution_count": 28,
   "metadata": {},
   "outputs": [],
   "source": [
    "res = []\n",
    "for k in lista_vecinos:\n",
    "    for d in lista_distancias:\n",
    "        for a in lista_algoritmos:\n",
    "            aux = Ytest.copy()\n",
    "            #Inicializo la instancia del algoritmo\n",
    "            knn = neighbors.KNeighborsRegressor(n_neighbors = k, p = d, algorithm = a)\n",
    "            knn.fit(Xtrn, Ytrn['price_usd_per_m2'])\n",
    "            aux['predict'] = knn.predict(Xtest)\n",
    "\n",
    "            error = mean_squared_error(Ytest['price_usd_per_m2'] , aux['predict'])\n",
    "\n",
    "            res.append( (error, k, d, a) )"
   ]
  },
  {
   "cell_type": "code",
   "execution_count": 35,
   "metadata": {},
   "outputs": [],
   "source": [
    "r = sorted(res, key=lambda x: x[0])"
   ]
  },
  {
   "cell_type": "code",
   "execution_count": 39,
   "metadata": {},
   "outputs": [
    {
     "data": {
      "text/plain": [
       "[(6436266.2916668355, 4, 1, 'ball_tree'),\n",
       " (6461835.3112882609, 4, 2, 'ball_tree'),\n",
       " (6465733.3134354223, 4, 1, 'auto'),\n",
       " (6465733.3134354223, 4, 1, 'kd_tree'),\n",
       " (6493949.3622172996, 4, 2, 'auto'),\n",
       " (6493949.3622172996, 4, 2, 'kd_tree'),\n",
       " (6494809.8206934752, 3, 2, 'ball_tree'),\n",
       " (6522362.3303189902, 5, 1, 'ball_tree'),\n",
       " (6528066.5339958426, 3, 1, 'ball_tree'),\n",
       " (6529832.9857137566, 3, 2, 'auto'),\n",
       " (6529832.9857137566, 3, 2, 'kd_tree'),\n",
       " (6530415.9345181547, 5, 2, 'ball_tree'),\n",
       " (6547085.7892487179, 5, 2, 'auto'),\n",
       " (6547085.7892487179, 5, 2, 'kd_tree'),\n",
       " (6557496.1229593512, 5, 1, 'auto'),\n",
       " (6557496.1229593512, 5, 1, 'kd_tree'),\n",
       " (6561822.8279918656, 3, 1, 'auto'),\n",
       " (6561822.8279918656, 3, 1, 'kd_tree'),\n",
       " (6569078.7695191195, 7, 1, 'ball_tree'),\n",
       " (6586194.1670135204, 6, 1, 'ball_tree'),\n",
       " (6596517.2857652893, 7, 1, 'auto'),\n",
       " (6596517.2857652893, 7, 1, 'kd_tree'),\n",
       " (6635148.0304942969, 6, 1, 'auto'),\n",
       " (6635148.0304942969, 6, 1, 'kd_tree'),\n",
       " (6645129.5465439223, 7, 2, 'ball_tree'),\n",
       " (6646308.190366134, 8, 1, 'ball_tree'),\n",
       " (6647160.61001446, 6, 2, 'auto'),\n",
       " (6647160.61001446, 6, 2, 'kd_tree'),\n",
       " (6654188.4848210718, 6, 2, 'ball_tree'),\n",
       " (6658497.0651501622, 7, 2, 'auto'),\n",
       " (6658497.0651501622, 7, 2, 'kd_tree'),\n",
       " (6677675.0091353673, 8, 1, 'auto'),\n",
       " (6677675.0091353673, 8, 1, 'kd_tree'),\n",
       " (6677930.7366737733, 8, 2, 'ball_tree'),\n",
       " (6682136.5609093998, 8, 2, 'auto'),\n",
       " (6682136.5609093998, 8, 2, 'kd_tree'),\n",
       " (6701862.9903339408, 9, 1, 'ball_tree'),\n",
       " (6732541.8857120797, 9, 2, 'ball_tree'),\n",
       " (6747886.6013391623, 9, 1, 'auto'),\n",
       " (6747886.6013391623, 9, 1, 'kd_tree'),\n",
       " (6749989.2889424311, 9, 2, 'auto'),\n",
       " (6749989.2889424311, 9, 2, 'kd_tree'),\n",
       " (6866229.0035139369, 2, 1, 'ball_tree'),\n",
       " (6920232.8843223453, 2, 1, 'auto'),\n",
       " (6920232.8843223453, 2, 1, 'kd_tree'),\n",
       " (6973424.8211207883, 2, 2, 'ball_tree'),\n",
       " (7020713.0692006145, 2, 2, 'auto'),\n",
       " (7020713.0692006145, 2, 2, 'kd_tree'),\n",
       " (7444862.516660003, 1, 1, 'auto'),\n",
       " (7444862.516660003, 1, 1, 'kd_tree'),\n",
       " (7445858.9600430811, 1, 1, 'ball_tree'),\n",
       " (7446931.3228326999, 1, 2, 'auto'),\n",
       " (7446931.3228326999, 1, 2, 'kd_tree'),\n",
       " (7449126.5582444156, 1, 2, 'ball_tree')]"
      ]
     },
     "execution_count": 39,
     "metadata": {},
     "output_type": "execute_result"
    }
   ],
   "source": [
    "#aca podemos ver una busqueda aproximada de los parametros.\n",
    "r"
   ]
  }
 ],
 "metadata": {
  "kernelspec": {
   "display_name": "Python 2",
   "language": "python",
   "name": "python2"
  },
  "language_info": {
   "codemirror_mode": {
    "name": "ipython",
    "version": 2
   },
   "file_extension": ".py",
   "mimetype": "text/x-python",
   "name": "python",
   "nbconvert_exporter": "python",
   "pygments_lexer": "ipython2",
   "version": "2.7.14"
  }
 },
 "nbformat": 4,
 "nbformat_minor": 2
}
